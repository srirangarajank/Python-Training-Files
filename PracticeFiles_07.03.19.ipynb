{
 "cells": [
  {
   "cell_type": "code",
   "execution_count": 13,
   "metadata": {},
   "outputs": [
    {
     "name": "stdout",
     "output_type": "stream",
     "text": [
      "1\n",
      "2\n",
      "3\n",
      "4\n",
      "5\n"
     ]
    }
   ],
   "source": [
    "#While loop continuation:\n",
    "current_num = 1\n",
    "while current_num <=5:\n",
    "    print(current_num)\n",
    "    current_num += 1"
   ]
  },
  {
   "cell_type": "code",
   "execution_count": null,
   "metadata": {},
   "outputs": [],
   "source": [
    "#letting the user choose when to quit:\n",
    "prompt = \"\\nTell me something, and I will repeat it\"\n",
    "prompt += \"\\nEnter 'quit' to end the program\"\n",
    "message = \" \"\n",
    "while message != 'quit':\n",
    "    message = input(prompt)\n",
    "    print(message)"
   ]
  },
  {
   "cell_type": "code",
   "execution_count": null,
   "metadata": {},
   "outputs": [],
   "source": [
    "#Introduction to Functions - to avoid repetitive tasks we execute functions\n",
    "#f(x) = a+b\n",
    "#defining a function -- keyword is def -- doc strings (triple quote) is a kind of comment in a function\n",
    "#Writing doc strings and indentation needs to be maintained.\n",
    "def Greet_user():\n",
    "    \"\"\"\"Display a simple greeting\"\"\"\n",
    "    print(\"Hello\")\n",
    "    \n",
    "Greet_user()"
   ]
  },
  {
   "cell_type": "code",
   "execution_count": null,
   "metadata": {},
   "outputs": [],
   "source": [
    "#Passing information to a function--here username is nothing but a parameter of the function\n",
    "def greet_user(username):\n",
    "    print(f\"Hello, {username.title()}!\")\n",
    "    \n",
    "greet_user('Sri') #here 'Sri' is called an argument"
   ]
  },
  {
   "cell_type": "code",
   "execution_count": null,
   "metadata": {},
   "outputs": [],
   "source": []
  }
 ],
 "metadata": {
  "kernelspec": {
   "display_name": "Python 3",
   "language": "python",
   "name": "python3"
  },
  "language_info": {
   "codemirror_mode": {
    "name": "ipython",
    "version": 3
   },
   "file_extension": ".py",
   "mimetype": "text/x-python",
   "name": "python",
   "nbconvert_exporter": "python",
   "pygments_lexer": "ipython3",
   "version": "3.7.3"
  }
 },
 "nbformat": 4,
 "nbformat_minor": 2
}
