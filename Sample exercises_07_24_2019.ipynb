{
 "cells": [
  {
   "cell_type": "code",
   "execution_count": 12,
   "metadata": {},
   "outputs": [
    {
     "name": "stdout",
     "output_type": "stream",
     "text": [
      "Enter the size of a list: 5\n",
      "Enter the value in a list: 4\n",
      "Enter the value in a list: 3\n",
      "Enter the value in a list: 1\n",
      "Enter the value in a list: 2\n",
      "Enter the value in a list: 6\n",
      "[4, 3, 1, 2, 6]\n",
      "Enter the maximum vale in the list: 6\n",
      "Enter the minimum value in the list: 1\n",
      "Difference: 5\n"
     ]
    }
   ],
   "source": [
    "#Finding the difference between max and min values in a list\n",
    "\n",
    "lst = []\n",
    "num = int(input('Enter the size of a list: '))\n",
    "\n",
    "for n in range(num):\n",
    "    numbers = int(input('Enter the value in a list: '))\n",
    "    lst.append(numbers)\n",
    "print(lst)\n",
    "print(f'Enter the maximum vale in the list: {max(lst)}\\nEnter the minimum value in the list: {min(lst)}')\n",
    "Difference = max(lst) - min(lst)\n",
    "print(f'Difference: {Difference}')"
   ]
  },
  {
   "cell_type": "markdown",
   "metadata": {},
   "source": []
  },
  {
   "cell_type": "code",
   "execution_count": 19,
   "metadata": {},
   "outputs": [
    {
     "name": "stdout",
     "output_type": "stream",
     "text": [
      "Enter a number: 0\n",
      "Given number is even.\n"
     ]
    }
   ],
   "source": [
    "# Program to verify if a given number is even\n",
    "\n",
    "num = int(input('Enter a number: '))\n",
    "remainder = num % 2\n",
    "if remainder == 0:\n",
    "    print('Given number is even.')\n",
    "else:\n",
    "    print(\"Given number is odd.\")"
   ]
  },
  {
   "cell_type": "code",
   "execution_count": 31,
   "metadata": {},
   "outputs": [
    {
     "name": "stdout",
     "output_type": "stream",
     "text": [
      "Enter a number: 4\n",
      "1\n"
     ]
    }
   ],
   "source": [
    "# Program to find factorial of a given number\n",
    "\n",
    "m = 1\n",
    "def factorial(m):\n",
    "    if m == 0:\n",
    "        return 1\n",
    "    else:\n",
    "        return m * factorial(m-1)\n",
    "\n",
    "number = int(input('Enter a number: '))\n",
    "print(factorial(m))"
   ]
  },
  {
   "cell_type": "code",
   "execution_count": 34,
   "metadata": {},
   "outputs": [
    {
     "name": "stdout",
     "output_type": "stream",
     "text": [
      "You can not divide by zero!\n"
     ]
    }
   ],
   "source": [
    "# 07.24.2019 - Exception Handling:\n",
    "\n",
    "# Python uses special objects called exceptions to manage errors that arise during a program\n",
    "# Exceptions are handled by try except block.\n",
    "\n",
    "try:\n",
    "    print(5/0)\n",
    "except ZeroDivisionError:\n",
    "    print(\"You can not divide by zero!\")"
   ]
  },
  {
   "cell_type": "code",
   "execution_count": 36,
   "metadata": {},
   "outputs": [
    {
     "name": "stdout",
     "output_type": "stream",
     "text": [
      "Give me 2 numbers and I will divide them\n",
      "Enter q to quit\n",
      "\n",
      "First number: 6\n",
      "Second number: 3\n",
      "2.0\n",
      "\n",
      "First number: 4\n",
      "Second number: 1\n",
      "4.0\n",
      "\n",
      "First number: 4\n",
      "Second number: 0\n"
     ]
    },
    {
     "ename": "ZeroDivisionError",
     "evalue": "division by zero",
     "output_type": "error",
     "traceback": [
      "\u001b[0;31m---------------------------------------------------------------------------\u001b[0m",
      "\u001b[0;31mZeroDivisionError\u001b[0m                         Traceback (most recent call last)",
      "\u001b[0;32m<ipython-input-36-02b6fd7b19a1>\u001b[0m in \u001b[0;36m<module>\u001b[0;34m\u001b[0m\n\u001b[1;32m      9\u001b[0m     \u001b[0;32mif\u001b[0m \u001b[0msecond_number\u001b[0m \u001b[0;34m==\u001b[0m \u001b[0;34m'q'\u001b[0m\u001b[0;34m:\u001b[0m\u001b[0;34m\u001b[0m\u001b[0;34m\u001b[0m\u001b[0m\n\u001b[1;32m     10\u001b[0m         \u001b[0;32mbreak\u001b[0m\u001b[0;34m\u001b[0m\u001b[0;34m\u001b[0m\u001b[0m\n\u001b[0;32m---> 11\u001b[0;31m     \u001b[0manswer\u001b[0m \u001b[0;34m=\u001b[0m \u001b[0mint\u001b[0m\u001b[0;34m(\u001b[0m\u001b[0mfirst_number\u001b[0m\u001b[0;34m)\u001b[0m\u001b[0;34m/\u001b[0m\u001b[0mint\u001b[0m\u001b[0;34m(\u001b[0m\u001b[0msecond_number\u001b[0m\u001b[0;34m)\u001b[0m\u001b[0;34m\u001b[0m\u001b[0;34m\u001b[0m\u001b[0m\n\u001b[0m\u001b[1;32m     12\u001b[0m     \u001b[0mprint\u001b[0m\u001b[0;34m(\u001b[0m\u001b[0manswer\u001b[0m\u001b[0;34m)\u001b[0m\u001b[0;34m\u001b[0m\u001b[0;34m\u001b[0m\u001b[0m\n",
      "\u001b[0;31mZeroDivisionError\u001b[0m: division by zero"
     ]
    }
   ],
   "source": [
    "print(\"Give me 2 numbers and I will divide them\")\n",
    "print(\"Enter q to quit\")\n",
    "\n",
    "while True:\n",
    "    first_number = input(\"\\nFirst number: \")\n",
    "    if first_number == 'q':\n",
    "        break\n",
    "    second_number = input(\"Second number: \")\n",
    "    if second_number == 'q':\n",
    "        break\n",
    "    answer = int(first_number)/int(second_number)\n",
    "    print(answer)"
   ]
  },
  {
   "cell_type": "code",
   "execution_count": 37,
   "metadata": {},
   "outputs": [
    {
     "name": "stdout",
     "output_type": "stream",
     "text": [
      "Give me 2 numbers and I will divide them\n",
      "Enter q to quit\n",
      "\n",
      "First number: 5\n",
      "Second number: 3\n",
      "1.6666666666666667\n",
      "\n",
      "First number: 4\n",
      "Second number: 0\n",
      "Don't try to divide a number by zero!\n",
      "\n",
      "First number: q\n"
     ]
    }
   ],
   "source": [
    "print(\"Give me 2 numbers and I will divide them\")\n",
    "print(\"Enter q to quit\")\n",
    "\n",
    "while True:\n",
    "    first_number = input(\"\\nFirst number: \")\n",
    "    if first_number == 'q':\n",
    "        break\n",
    "    second_number = input(\"Second number: \")\n",
    "    if second_number == 'q':\n",
    "        break\n",
    "    try:\n",
    "        answer = int(first_number)/int(second_number)\n",
    "    except ZeroDivisionError:\n",
    "        print(\"Don't try to divide a number by zero!\")\n",
    "    else:\n",
    "        print(answer)"
   ]
  },
  {
   "cell_type": "code",
   "execution_count": 38,
   "metadata": {},
   "outputs": [
    {
     "ename": "FileNotFoundError",
     "evalue": "[Errno 2] No such file or directory: 'alice.txt'",
     "output_type": "error",
     "traceback": [
      "\u001b[0;31m---------------------------------------------------------------------------\u001b[0m",
      "\u001b[0;31mFileNotFoundError\u001b[0m                         Traceback (most recent call last)",
      "\u001b[0;32m<ipython-input-38-6af93c7b0d52>\u001b[0m in \u001b[0;36m<module>\u001b[0;34m\u001b[0m\n\u001b[1;32m      3\u001b[0m \u001b[0mfilename\u001b[0m \u001b[0;34m=\u001b[0m \u001b[0;34m'alice.txt'\u001b[0m\u001b[0;34m\u001b[0m\u001b[0;34m\u001b[0m\u001b[0m\n\u001b[1;32m      4\u001b[0m \u001b[0;34m\u001b[0m\u001b[0m\n\u001b[0;32m----> 5\u001b[0;31m \u001b[0;32mwith\u001b[0m \u001b[0mopen\u001b[0m\u001b[0;34m(\u001b[0m\u001b[0mfilename\u001b[0m\u001b[0;34m)\u001b[0m \u001b[0;32mas\u001b[0m \u001b[0mf\u001b[0m\u001b[0;34m:\u001b[0m\u001b[0;34m\u001b[0m\u001b[0;34m\u001b[0m\u001b[0m\n\u001b[0m\u001b[1;32m      6\u001b[0m     \u001b[0mcontents\u001b[0m \u001b[0;34m=\u001b[0m \u001b[0mf\u001b[0m\u001b[0;34m.\u001b[0m\u001b[0mread\u001b[0m\u001b[0;34m(\u001b[0m\u001b[0;34m)\u001b[0m\u001b[0;34m\u001b[0m\u001b[0;34m\u001b[0m\u001b[0m\n",
      "\u001b[0;31mFileNotFoundError\u001b[0m: [Errno 2] No such file or directory: 'alice.txt'"
     ]
    }
   ],
   "source": [
    "# Handling file not found exceptions:\n",
    "\n",
    "filename = 'alice.txt'\n",
    "\n",
    "with open(filename) as f:\n",
    "    contents = f.read()"
   ]
  },
  {
   "cell_type": "code",
   "execution_count": 45,
   "metadata": {},
   "outputs": [
    {
     "name": "stdout",
     "output_type": "stream",
     "text": [
      "Please specify the right filename\n"
     ]
    }
   ],
   "source": [
    "filename = 'alice.txt'\n",
    "try:\n",
    "    with open(filename) as f:\n",
    "        contents = f.read()\n",
    "except FileNotFoundError:\n",
    "    print(\"Please specify the right filename\")"
   ]
  },
  {
   "cell_type": "code",
   "execution_count": 49,
   "metadata": {},
   "outputs": [
    {
     "name": "stdout",
     "output_type": "stream",
     "text": [
      "Enter the number: 6\n",
      "720\n"
     ]
    }
   ],
   "source": [
    "# Program to display factorial of a given number\n",
    "\n",
    "n = int(input('Enter the number: '))\n",
    "result = 1\n",
    "for i in range(n,0,-1):\n",
    "    result = result*i\n",
    "print(result)\n"
   ]
  },
  {
   "cell_type": "code",
   "execution_count": null,
   "metadata": {},
   "outputs": [],
   "source": []
  }
 ],
 "metadata": {
  "kernelspec": {
   "display_name": "Python 3",
   "language": "python",
   "name": "python3"
  },
  "language_info": {
   "codemirror_mode": {
    "name": "ipython",
    "version": 3
   },
   "file_extension": ".py",
   "mimetype": "text/x-python",
   "name": "python",
   "nbconvert_exporter": "python",
   "pygments_lexer": "ipython3",
   "version": "3.7.3"
  }
 },
 "nbformat": 4,
 "nbformat_minor": 2
}
