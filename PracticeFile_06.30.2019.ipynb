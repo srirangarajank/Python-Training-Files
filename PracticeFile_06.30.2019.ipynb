{
 "cells": [
  {
   "cell_type": "code",
   "execution_count": 1,
   "metadata": {},
   "outputs": [],
   "source": [
    "# 06/30/19 - User inputs declaration\n",
    "#how to achieve user inputs...while running a programme...input()"
   ]
  },
  {
   "cell_type": "code",
   "execution_count": 3,
   "metadata": {},
   "outputs": [
    {
     "name": "stdout",
     "output_type": "stream",
     "text": [
      "Give respect and take:respect\n",
      "respect\n"
     ]
    }
   ],
   "source": [
    "message = input(\"Give respect and take:\")\n",
    "print(message)"
   ]
  },
  {
   "cell_type": "code",
   "execution_count": 4,
   "metadata": {},
   "outputs": [
    {
     "name": "stdout",
     "output_type": "stream",
     "text": [
      "Please enter the username:srirangarajankb\n",
      "srirangarajankb\n"
     ]
    }
   ],
   "source": [
    "msg = input(\"Please enter the username:\")\n",
    "print(msg)"
   ]
  },
  {
   "cell_type": "code",
   "execution_count": 6,
   "metadata": {},
   "outputs": [
    {
     "name": "stdout",
     "output_type": "stream",
     "text": [
      "Please enter your name:Akshay\n",
      "\n",
      " Hello, Akshay!\n"
     ]
    }
   ],
   "source": [
    "name = input(\"Please enter your name:\")\n",
    "print(f\"\\n Hello, {name}!\")"
   ]
  },
  {
   "cell_type": "code",
   "execution_count": 8,
   "metadata": {},
   "outputs": [
    {
     "name": "stdout",
     "output_type": "stream",
     "text": [
      "Please enter your first name:Sri\n",
      "Please enter your age:30\n",
      "\n",
      "User Sri's age is 30\n"
     ]
    }
   ],
   "source": [
    "firstname = input(\"Please enter your first name:\")\n",
    "age = input(\"Please enter your age:\")\n",
    "print(f\"\\nUser {firstname}'s age is {age}\")"
   ]
  },
  {
   "cell_type": "code",
   "execution_count": null,
   "metadata": {},
   "outputs": [],
   "source": [
    "#By default input function treats it's input value as string, if you want to convert the datatype\n",
    "#then you need to explicitly convert it's datatype.\n",
    "age_2 = int(age)"
   ]
  }
 ],
 "metadata": {
  "kernelspec": {
   "display_name": "Python 3",
   "language": "python",
   "name": "python3"
  },
  "language_info": {
   "codemirror_mode": {
    "name": "ipython",
    "version": 3
   },
   "file_extension": ".py",
   "mimetype": "text/x-python",
   "name": "python",
   "nbconvert_exporter": "python",
   "pygments_lexer": "ipython3",
   "version": "3.7.3"
  }
 },
 "nbformat": 4,
 "nbformat_minor": 2
}
