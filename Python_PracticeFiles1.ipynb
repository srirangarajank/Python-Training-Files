{
 "cells": [
  {
   "cell_type": "code",
   "execution_count": 22,
   "metadata": {},
   "outputs": [
    {
     "name": "stdout",
     "output_type": "stream",
     "text": [
      "Hello Sri, welcome to Python!\n"
     ]
    }
   ],
   "source": [
    "print(\"Hello Sri, welcome to Python!\")"
   ]
  },
  {
   "cell_type": "code",
   "execution_count": 2,
   "metadata": {},
   "outputs": [
    {
     "name": "stdout",
     "output_type": "stream",
     "text": [
      "11\n",
      "Sum =  11\n"
     ]
    }
   ],
   "source": [
    "#Variable declaration\n",
    "a = 1\n",
    "b = 4\n",
    "c = 6\n",
    "print(a+b+c)\n",
    "print(\"Sum = \",a+b+c)"
   ]
  },
  {
   "cell_type": "code",
   "execution_count": 3,
   "metadata": {},
   "outputs": [
    {
     "name": "stdout",
     "output_type": "stream",
     "text": [
      "Sum = 11\n"
     ]
    }
   ],
   "source": [
    "print(\"Sum =\",a+b+c)"
   ]
  },
  {
   "cell_type": "code",
   "execution_count": 4,
   "metadata": {},
   "outputs": [
    {
     "name": "stdout",
     "output_type": "stream",
     "text": [
      "Akshay Ramanujan\n",
      "AKSHAY RAMANUJAN\n",
      "akshay ramanujan\n",
      "My son's name is  Akshay Ramanujan\n"
     ]
    }
   ],
   "source": [
    "name = \"akshay ramanujan\"\n",
    "print(name.title())\n",
    "print(name.upper())\n",
    "print(name.lower())\n",
    "print(\"My son's name is \",name.title())"
   ]
  },
  {
   "cell_type": "code",
   "execution_count": 5,
   "metadata": {},
   "outputs": [
    {
     "name": "stdout",
     "output_type": "stream",
     "text": [
      "My son's name is Akshay Ramanujan\n"
     ]
    }
   ],
   "source": [
    "print(\"My son's name is\",name.title())"
   ]
  },
  {
   "cell_type": "code",
   "execution_count": 6,
   "metadata": {},
   "outputs": [
    {
     "name": "stdout",
     "output_type": "stream",
     "text": [
      "akshay ramanujan kandala\n"
     ]
    }
   ],
   "source": [
    "first_name = \"akshay ramanujan\"\n",
    "last_name = \"kandala\"\n",
    "full_name = f\"{first_name} {last_name}\"\n",
    "print(full_name)"
   ]
  },
  {
   "cell_type": "code",
   "execution_count": 7,
   "metadata": {},
   "outputs": [
    {
     "name": "stdout",
     "output_type": "stream",
     "text": [
      "Akshay Ramanujan Kandala\n"
     ]
    }
   ],
   "source": [
    "print(full_name.title())"
   ]
  },
  {
   "cell_type": "code",
   "execution_count": 8,
   "metadata": {},
   "outputs": [
    {
     "name": "stdout",
     "output_type": "stream",
     "text": [
      "24\n"
     ]
    }
   ],
   "source": [
    "print(len(full_name))"
   ]
  },
  {
   "cell_type": "code",
   "execution_count": 9,
   "metadata": {},
   "outputs": [
    {
     "name": "stdout",
     "output_type": "stream",
     "text": [
      "\tMy son's name is Akshay Ramanujan Kandala\n"
     ]
    }
   ],
   "source": [
    "# \\t is to print tab space\n",
    "print(\"\\tMy son's name is\",full_name.title())"
   ]
  },
  {
   "cell_type": "code",
   "execution_count": 10,
   "metadata": {},
   "outputs": [
    {
     "name": "stdout",
     "output_type": "stream",
     "text": [
      "Software programming languages:\n",
      "Python\n",
      "C\n",
      "C++\n",
      "Java\n"
     ]
    }
   ],
   "source": [
    "# \\n is to print results in a new line\n",
    "print(\"Software programming languages:\\nPython\\nC\\nC++\\nJava\")"
   ]
  },
  {
   "cell_type": "code",
   "execution_count": 11,
   "metadata": {},
   "outputs": [
    {
     "name": "stdout",
     "output_type": "stream",
     "text": [
      "Software programming languages: \n",
      "Python \n",
      "C \n",
      "C++ \n",
      "Java\n"
     ]
    }
   ],
   "source": [
    "print(\"Software programming languages: \\nPython \\nC \\nC++ \\nJava\")"
   ]
  },
  {
   "cell_type": "code",
   "execution_count": 12,
   "metadata": {},
   "outputs": [
    {
     "name": "stdout",
     "output_type": "stream",
     "text": [
      "Software programming languages: \n",
      " Python \n",
      " C\n",
      "C++ \n",
      "Java\n"
     ]
    }
   ],
   "source": [
    "print(\"Software programming languages: \\n Python \\n C\\nC++ \\nJava\")"
   ]
  },
  {
   "cell_type": "code",
   "execution_count": 13,
   "metadata": {},
   "outputs": [
    {
     "name": "stdout",
     "output_type": "stream",
     "text": [
      "numbers\n"
     ]
    }
   ],
   "source": [
    "#strip() is used to remove spaces\n",
    "points = \"numbers  \"\n",
    "print(points.strip())"
   ]
  },
  {
   "cell_type": "code",
   "execution_count": 14,
   "metadata": {},
   "outputs": [
    {
     "name": "stdout",
     "output_type": "stream",
     "text": [
      "Numbers\n"
     ]
    }
   ],
   "source": [
    "print((points.title()).strip())"
   ]
  },
  {
   "cell_type": "code",
   "execution_count": 15,
   "metadata": {},
   "outputs": [
    {
     "name": "stdout",
     "output_type": "stream",
     "text": [
      "9\n"
     ]
    }
   ],
   "source": [
    "print(len(points))"
   ]
  },
  {
   "cell_type": "code",
   "execution_count": 16,
   "metadata": {},
   "outputs": [
    {
     "name": "stdout",
     "output_type": "stream",
     "text": [
      "7\n"
     ]
    }
   ],
   "source": [
    "print(len(points.strip()))"
   ]
  },
  {
   "cell_type": "code",
   "execution_count": 21,
   "metadata": {},
   "outputs": [
    {
     "name": "stdout",
     "output_type": "stream",
     "text": [
      "12\n"
     ]
    }
   ],
   "source": [
    "#Declaration can be done in multiple ways\n",
    "a=1\n",
    "b=2\n",
    "c=3\n",
    "#print(a+b+c)\n",
    "a,b,c=2,4,6\n",
    "print(a+b+c)"
   ]
  },
  {
   "cell_type": "code",
   "execution_count": null,
   "metadata": {},
   "outputs": [],
   "source": []
  }
 ],
 "metadata": {
  "kernelspec": {
   "display_name": "Python 3",
   "language": "python",
   "name": "python3"
  },
  "language_info": {
   "codemirror_mode": {
    "name": "ipython",
    "version": 3
   },
   "file_extension": ".py",
   "mimetype": "text/x-python",
   "name": "python",
   "nbconvert_exporter": "python",
   "pygments_lexer": "ipython3",
   "version": "3.7.3"
  }
 },
 "nbformat": 4,
 "nbformat_minor": 2
}
