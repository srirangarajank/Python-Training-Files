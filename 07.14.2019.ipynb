{
 "cells": [
  {
   "cell_type": "code",
   "execution_count": 2,
   "metadata": {},
   "outputs": [
    {
     "data": {
      "text/plain": [
       "'I am building a console'"
      ]
     },
     "execution_count": 2,
     "metadata": {},
     "output_type": "execute_result"
    }
   ],
   "source": [
    "#Superclass and a subclass\n",
    "class parentclass:\n",
    "    var1 = 'I am building a console'\n",
    "    var2 = 'I am taking care of the front end part'\n",
    "    \n",
    "parentobj = parentclass()\n",
    "parentobj.var1\n",
    "\n",
    "class childclass(parentclass):\n",
    "    pass\n",
    "\n",
    "childobj = childclass()\n",
    "childobj.var1"
   ]
  },
  {
   "cell_type": "code",
   "execution_count": 5,
   "metadata": {},
   "outputs": [
    {
     "data": {
      "text/plain": [
       "'I am taking care of the break and tyre connection parts'"
      ]
     },
     "execution_count": 5,
     "metadata": {},
     "output_type": "execute_result"
    }
   ],
   "source": [
    "class parentclass:\n",
    "    var1 = 'I am building a console'\n",
    "    var2 = 'I am taking care of the front end part'\n",
    "    \n",
    "parentobj = parentclass()\n",
    "parentobj.var1\n",
    "\n",
    "class childclass(parentclass):\n",
    "    var2 = 'I am taking care of the break and tyre connection parts'\n",
    "    \n",
    "childobj = childclass()\n",
    "\n",
    "childobj.var2"
   ]
  },
  {
   "cell_type": "code",
   "execution_count": 6,
   "metadata": {},
   "outputs": [
    {
     "name": "stdout",
     "output_type": "stream",
     "text": [
      "Hello, Sri!!\n"
     ]
    }
   ],
   "source": [
    "#******Constructor\n",
    "class ClassName:\n",
    "    \n",
    "    def createname(self, name):\n",
    "        self.name = name\n",
    "    \n",
    "    def displayname(self):\n",
    "        return self.name\n",
    "    \n",
    "    def saying(self):\n",
    "        print(f\"Hello, {self.name}!!\")\n",
    "        \n",
    "first = ClassName()\n",
    "first.createname('Sri')\n",
    "first.displayname()\n",
    "first.saying()"
   ]
  },
  {
   "cell_type": "code",
   "execution_count": 7,
   "metadata": {},
   "outputs": [
    {
     "name": "stdout",
     "output_type": "stream",
     "text": [
      "I am explaining something\n",
      "You are doing good!\n"
     ]
    }
   ],
   "source": [
    "class new:\n",
    "    def __init__(self):\n",
    "        print('I am explaining something')\n",
    "        print('You are doing good!')\n",
    "        \n",
    "\n",
    "        newobj = new()"
   ]
  },
  {
   "cell_type": "code",
   "execution_count": 8,
   "metadata": {},
   "outputs": [
    {
     "name": "stdout",
     "output_type": "stream",
     "text": [
      "Honda Accord 2012\n"
     ]
    }
   ],
   "source": [
    "# 07/15/2019 session's notes\n",
    "class car:\n",
    "    \"\"\"A simple attempt to represent a car\"\"\"\n",
    "    \n",
    "    def __init__(self, make, model, year):\n",
    "        \"\"\"Intialize attributes to describe the car\"\"\"\n",
    "        \n",
    "        self.make = make\n",
    "        self.model = model\n",
    "        self.year = year\n",
    "        \n",
    "    def get_describe_name(self):\n",
    "        \"\"\"Returns a neatly formatted name\"\"\"\n",
    "        long_name = f\"{self.make} {self.model} {self.year}\"\n",
    "        return long_name.title()\n",
    "    \n",
    "my_new_car = car('honda', 'accord', 2012) # this type of passing an arguments is called runtime argument passing\n",
    "print(my_new_car.get_describe_name())"
   ]
  },
  {
   "cell_type": "code",
   "execution_count": 10,
   "metadata": {},
   "outputs": [
    {
     "name": "stdout",
     "output_type": "stream",
     "text": [
      "Honda Accord 2012\n",
      "This car has 0 in it.\n"
     ]
    }
   ],
   "source": [
    "#Setting the default values or hardcode values\n",
    "\n",
    "class car:\n",
    "    \"\"\"A simple attempt to represent a car\"\"\"\n",
    "    \n",
    "    def __init__(self, make, model, year, meterreading):\n",
    "        \"\"\"Intialize attributes to describe the car\"\"\"\n",
    "        \n",
    "        self.make = make\n",
    "        self.model = model\n",
    "        self.year = year\n",
    "        self.meterreading = 0\n",
    "        \n",
    "    def get_describe_name(self):\n",
    "        \"\"\"Returns a neatly formatted name\"\"\"\n",
    "        long_name = f\"{self.make} {self.model} {self.year}\"\n",
    "        return long_name.title()\n",
    "    \n",
    "    def read_meter(self):\n",
    "        \"\"\"Prints a statement to show the car reading\"\"\"\n",
    "        print(f\"This car has {self.meterreading} in it.\")\n",
    "        \n",
    "    \n",
    "my_new_car = car('honda', 'accord', 2012, 12)\n",
    "print(my_new_car.get_describe_name())\n",
    "\n",
    "my_new_car.read_meter()"
   ]
  },
  {
   "cell_type": "code",
   "execution_count": null,
   "metadata": {},
   "outputs": [],
   "source": [
    "# *** What challenges did you face in your experience? Then we need to talk something about errors or indentation\n",
    "# errors or some other things needs to be explained."
   ]
  }
 ],
 "metadata": {
  "kernelspec": {
   "display_name": "Python 3",
   "language": "python",
   "name": "python3"
  },
  "language_info": {
   "codemirror_mode": {
    "name": "ipython",
    "version": 3
   },
   "file_extension": ".py",
   "mimetype": "text/x-python",
   "name": "python",
   "nbconvert_exporter": "python",
   "pygments_lexer": "ipython3",
   "version": "3.7.3"
  }
 },
 "nbformat": 4,
 "nbformat_minor": 2
}
