{
 "cells": [
  {
   "cell_type": "code",
   "execution_count": 3,
   "metadata": {},
   "outputs": [
    {
     "name": "stdout",
     "output_type": "stream",
     "text": [
      "\n",
      "I have a puppy.\n",
      "My puppy's name is Sonu.\n"
     ]
    }
   ],
   "source": [
    "#Introduction to default values in functions\n",
    "def describe_pet(pet_name, animal_type='bird'):\n",
    "    \"\"\"Displaying info about a pet\"\"\"\n",
    "    print(f\"\\nI have a {animal_type}.\")\n",
    "    print(f\"My {animal_type}'s name is {pet_name}.\")\n",
    "    \n",
    "describe_pet('Sonu','puppy')\n"
   ]
  },
  {
   "cell_type": "code",
   "execution_count": 4,
   "metadata": {},
   "outputs": [
    {
     "ename": "TypeError",
     "evalue": "describe_pet() missing 1 required positional argument: 'animal_type'",
     "output_type": "error",
     "traceback": [
      "\u001b[0;31m---------------------------------------------------------------------------\u001b[0m",
      "\u001b[0;31mTypeError\u001b[0m                                 Traceback (most recent call last)",
      "\u001b[0;32m<ipython-input-4-3bbbb785eae8>\u001b[0m in \u001b[0;36m<module>\u001b[0;34m\u001b[0m\n\u001b[1;32m      5\u001b[0m     \u001b[0mprint\u001b[0m\u001b[0;34m(\u001b[0m\u001b[0;34mf\"My {animal_type}'s name is {pet_name}.\"\u001b[0m\u001b[0;34m)\u001b[0m\u001b[0;34m\u001b[0m\u001b[0;34m\u001b[0m\u001b[0m\n\u001b[1;32m      6\u001b[0m \u001b[0;34m\u001b[0m\u001b[0m\n\u001b[0;32m----> 7\u001b[0;31m \u001b[0mdescribe_pet\u001b[0m\u001b[0;34m(\u001b[0m\u001b[0;34m'Sonu'\u001b[0m\u001b[0;34m)\u001b[0m\u001b[0;34m\u001b[0m\u001b[0;34m\u001b[0m\u001b[0m\n\u001b[0m",
      "\u001b[0;31mTypeError\u001b[0m: describe_pet() missing 1 required positional argument: 'animal_type'"
     ]
    }
   ],
   "source": [
    "#Avoiding argument errors:\n",
    "def describe_pet(pet_name, animal_type):\n",
    "    \"\"\"Displaying info about a pet\"\"\"\n",
    "    print(f\"\\nI have a {animal_type}.\")\n",
    "    print(f\"My {animal_type}'s name is {pet_name}.\")\n",
    "    \n",
    "describe_pet('Sonu')"
   ]
  },
  {
   "cell_type": "code",
   "execution_count": 5,
   "metadata": {},
   "outputs": [
    {
     "name": "stdout",
     "output_type": "stream",
     "text": [
      "\n",
      "I have a bird.\n",
      "My bird's name is Sonu.\n"
     ]
    }
   ],
   "source": [
    "def describe_pet(pet_name, animal_type):\n",
    "    \"\"\"Displaying info about a pet\"\"\"\n",
    "    print(f\"\\nI have a {animal_type}.\")\n",
    "    print(f\"My {animal_type}'s name is {pet_name}.\")\n",
    "    \n",
    "describe_pet('Sonu','bird')"
   ]
  },
  {
   "cell_type": "code",
   "execution_count": 8,
   "metadata": {},
   "outputs": [
    {
     "name": "stdout",
     "output_type": "stream",
     "text": [
      "{'first': 'Devi', 'last': 'sri prasad'}\n"
     ]
    }
   ],
   "source": [
    "#To return the output in a dictionary format\n",
    "\n",
    "def build_person(first_name, last_name):\n",
    "    \"\"\"Returns a dictionary of information about a person\"\"\"\n",
    "    person = {'first':first_name, 'last':last_name}\n",
    "    return person #return will give the output back to the function\n",
    "musician = build_person('Devi','sri prasad')\n",
    "print(musician)"
   ]
  },
  {
   "cell_type": "code",
   "execution_count": 10,
   "metadata": {},
   "outputs": [
    {
     "name": "stdout",
     "output_type": "stream",
     "text": [
      "Hello, Akshay!\n",
      "Hello, Aishwarya!\n",
      "Hello, Narmada!\n",
      "Hello, Bealu!\n",
      "Hello, Jithu!\n",
      "Hello, Madhavi!\n"
     ]
    }
   ],
   "source": [
    "#Passing a for loop in the function\n",
    "\n",
    "def greet_users(names):\n",
    "    \"\"\"Print simple greeting to each user in the list\"\"\"\n",
    "    for name in names:\n",
    "        msg = f\"Hello, {name.title()}!\"\n",
    "        print(msg)\n",
    "        \n",
    "usernames = ['Akshay','Aishwarya','narmada','bealu','jithu','madhavi']\n",
    "greet_users(usernames)"
   ]
  },
  {
   "cell_type": "code",
   "execution_count": 12,
   "metadata": {},
   "outputs": [
    {
     "name": "stdout",
     "output_type": "stream",
     "text": [
      "('onions', 'tomatoes', 'jalapenos', 'bell pepper')\n"
     ]
    }
   ],
   "source": [
    "#Passing an arbitrary number of arguments---* signifies an arbitrary parameter\n",
    "\n",
    "def make_pizza(*toppings):\n",
    "    \"\"\"Prints the list if toppings that have been requested\"\"\"\n",
    "    print(toppings)\n",
    "    \n",
    "make_pizza('onions', 'tomatoes', 'jalapenos', 'bell pepper')"
   ]
  },
  {
   "cell_type": "code",
   "execution_count": null,
   "metadata": {},
   "outputs": [],
   "source": []
  }
 ],
 "metadata": {
  "kernelspec": {
   "display_name": "Python 3",
   "language": "python",
   "name": "python3"
  },
  "language_info": {
   "codemirror_mode": {
    "name": "ipython",
    "version": 3
   },
   "file_extension": ".py",
   "mimetype": "text/x-python",
   "name": "python",
   "nbconvert_exporter": "python",
   "pygments_lexer": "ipython3",
   "version": "3.7.3"
  }
 },
 "nbformat": 4,
 "nbformat_minor": 2
}
